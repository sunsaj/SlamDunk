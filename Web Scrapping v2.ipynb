{
 "cells": [
  {
   "cell_type": "code",
   "execution_count": 60,
   "metadata": {},
   "outputs": [],
   "source": [
    "from urllib.request import urlopen"
   ]
  },
  {
   "cell_type": "code",
   "execution_count": 61,
   "metadata": {},
   "outputs": [],
   "source": [
    "from bs4 import BeautifulSoup as BS"
   ]
  },
  {
   "cell_type": "code",
   "execution_count": 62,
   "metadata": {},
   "outputs": [],
   "source": [
    "import pandas as pd"
   ]
  },
  {
   "cell_type": "code",
   "execution_count": 63,
   "metadata": {},
   "outputs": [],
   "source": [
    "page = urlopen('https://fbookshelf.herokuapp.com/')"
   ]
  },
  {
   "cell_type": "code",
   "execution_count": 64,
   "metadata": {},
   "outputs": [],
   "source": [
    "soup = BS(page.read(),'html.parser')"
   ]
  },
  {
   "cell_type": "code",
   "execution_count": 65,
   "metadata": {},
   "outputs": [],
   "source": [
    "page.close()"
   ]
  },
  {
   "cell_type": "code",
   "execution_count": 66,
   "metadata": {},
   "outputs": [],
   "source": [
    "containers = soup.findAll(\"div\",{\"class\":\"col-md-8\"}) \n"
   ]
  },
  {
   "cell_type": "code",
   "execution_count": 76,
   "metadata": {},
   "outputs": [],
   "source": [
    "tbl = []\n",
    "\n",
    "for container in containers:\n",
    "    title  = container.h3.text\n",
    "    others = container.findAll(\"p\")\n",
    "    author = others[0].text.strip('by ')\n",
    "    genre = others[1].text.strip('genre : ')\n",
    "    pages = others[2].text.strip(' pages')\n",
    "    ratings = others[3].text\n",
    "    reviews = others[4].text.strip('No_of_reviews ')\n",
    "    description = others[5].text\n",
    "    isbn = others[6].text.strip('ISBN ')\n",
    "    votes = others[7].text.strip(' votes')\n",
    "    i = 8\n",
    "    comments = \"\"\n",
    "    while i < len(others):\n",
    "        comments +=others[i].text + ' | '\n",
    "        i = i + 1\n",
    "    \n",
    "    data = list([title,author,genre,pages,ratings,reviews,description,isbn,votes,comments])\n",
    "    tbl.append(data)"
   ]
  },
  {
   "cell_type": "code",
   "execution_count": 77,
   "metadata": {},
   "outputs": [],
   "source": [
    "dataset = pd.DataFrame(tbl,columns=['Title','Author','Genre','Number Of Pages','Star Rating','Number of Reviews','Short Description','ISBN Number','Number of Votes','Comments'])"
   ]
  },
  {
   "cell_type": "code",
   "execution_count": 78,
   "metadata": {},
   "outputs": [
    {
     "data": {
      "text/html": [
       "<div>\n",
       "<style scoped>\n",
       "    .dataframe tbody tr th:only-of-type {\n",
       "        vertical-align: middle;\n",
       "    }\n",
       "\n",
       "    .dataframe tbody tr th {\n",
       "        vertical-align: top;\n",
       "    }\n",
       "\n",
       "    .dataframe thead th {\n",
       "        text-align: right;\n",
       "    }\n",
       "</style>\n",
       "<table border=\"1\" class=\"dataframe\">\n",
       "  <thead>\n",
       "    <tr style=\"text-align: right;\">\n",
       "      <th></th>\n",
       "      <th>Title</th>\n",
       "      <th>Author</th>\n",
       "      <th>Genre</th>\n",
       "      <th>Number Of Pages</th>\n",
       "      <th>Star Rating</th>\n",
       "      <th>Number of Reviews</th>\n",
       "      <th>Short Description</th>\n",
       "      <th>ISBN Number</th>\n",
       "      <th>Number of Votes</th>\n",
       "      <th>Comments</th>\n",
       "    </tr>\n",
       "  </thead>\n",
       "  <tbody>\n",
       "    <tr>\n",
       "      <th>0</th>\n",
       "      <td>The 100 Most Notable Cornellians</td>\n",
       "      <td>Glenn C. Altschuler</td>\n",
       "      <td>No</td>\n",
       "      <td>272.0</td>\n",
       "      <td>4.0</td>\n",
       "      <td>0</td>\n",
       "      <td>\"Cornell is unique among American research uni...</td>\n",
       "      <td>9780801439582.0</td>\n",
       "      <td>1</td>\n",
       "      <td></td>\n",
       "    </tr>\n",
       "    <tr>\n",
       "      <th>1</th>\n",
       "      <td>Mientras Nieva Sobre Los Cedros</td>\n",
       "      <td>David Guterson</td>\n",
       "      <td>Fictio</td>\n",
       "      <td>400.0</td>\n",
       "      <td>3.82</td>\n",
       "      <td>4,241</td>\n",
       "      <td>You know that guy who's at every party, the on...</td>\n",
       "      <td>9788483107232.0</td>\n",
       "      <td>151,415</td>\n",
       "      <td>You know that guy who's at every party, the on...</td>\n",
       "    </tr>\n",
       "    <tr>\n",
       "      <th>2</th>\n",
       "      <td>The Lord of the Rings</td>\n",
       "      <td>J.R.R. Tolkien</td>\n",
       "      <td>Fantasy</td>\n",
       "      <td>1184.0</td>\n",
       "      <td>4.49</td>\n",
       "      <td>10,298</td>\n",
       "      <td>The Fellowship of the Ring, part one of J.R.R....</td>\n",
       "      <td>9780618517657.0</td>\n",
       "      <td>479,889</td>\n",
       "      <td>not a review and there probably won't be one a...</td>\n",
       "    </tr>\n",
       "    <tr>\n",
       "      <th>3</th>\n",
       "      <td>Beyond Silence and Denial</td>\n",
       "      <td>Lucy Bregman</td>\n",
       "      <td>Religio</td>\n",
       "      <td>208.0</td>\n",
       "      <td>3.8</td>\n",
       "      <td>0</td>\n",
       "      <td>Lucy Bregman guides the reader through the wea...</td>\n",
       "      <td>9780664258023.0</td>\n",
       "      <td>5</td>\n",
       "      <td></td>\n",
       "    </tr>\n",
       "    <tr>\n",
       "      <th>4</th>\n",
       "      <td>African Rock Art: Paintings and Engravings on ...</td>\n",
       "      <td>David Coulson</td>\n",
       "      <td>No</td>\n",
       "      <td>256.0</td>\n",
       "      <td>5.0</td>\n",
       "      <td>0</td>\n",
       "      <td>Covering the entire continent, this lavishly i...</td>\n",
       "      <td>9780810943636.0</td>\n",
       "      <td>3</td>\n",
       "      <td></td>\n",
       "    </tr>\n",
       "  </tbody>\n",
       "</table>\n",
       "</div>"
      ],
      "text/plain": [
       "                                               Title               Author  \\\n",
       "0                   The 100 Most Notable Cornellians  Glenn C. Altschuler   \n",
       "1                    Mientras Nieva Sobre Los Cedros       David Guterson   \n",
       "2                              The Lord of the Rings       J.R.R. Tolkien   \n",
       "3                          Beyond Silence and Denial         Lucy Bregman   \n",
       "4  African Rock Art: Paintings and Engravings on ...        David Coulson   \n",
       "\n",
       "     Genre Number Of Pages Star Rating Number of Reviews  \\\n",
       "0       No           272.0         4.0                 0   \n",
       "1   Fictio           400.0        3.82             4,241   \n",
       "2  Fantasy          1184.0        4.49            10,298   \n",
       "3  Religio           208.0         3.8                 0   \n",
       "4       No           256.0         5.0                 0   \n",
       "\n",
       "                                   Short Description      ISBN Number  \\\n",
       "0  \"Cornell is unique among American research uni...  9780801439582.0   \n",
       "1  You know that guy who's at every party, the on...  9788483107232.0   \n",
       "2  The Fellowship of the Ring, part one of J.R.R....  9780618517657.0   \n",
       "3  Lucy Bregman guides the reader through the wea...  9780664258023.0   \n",
       "4  Covering the entire continent, this lavishly i...  9780810943636.0   \n",
       "\n",
       "  Number of Votes                                           Comments  \n",
       "0               1                                                     \n",
       "1         151,415  You know that guy who's at every party, the on...  \n",
       "2         479,889  not a review and there probably won't be one a...  \n",
       "3               5                                                     \n",
       "4               3                                                     "
      ]
     },
     "execution_count": 78,
     "metadata": {},
     "output_type": "execute_result"
    }
   ],
   "source": [
    "dataset.head(5)"
   ]
  },
  {
   "cell_type": "code",
   "execution_count": null,
   "metadata": {},
   "outputs": [],
   "source": []
  }
 ],
 "metadata": {
  "kernelspec": {
   "display_name": "Python 3",
   "language": "python",
   "name": "python3"
  },
  "language_info": {
   "codemirror_mode": {
    "name": "ipython",
    "version": 3
   },
   "file_extension": ".py",
   "mimetype": "text/x-python",
   "name": "python",
   "nbconvert_exporter": "python",
   "pygments_lexer": "ipython3",
   "version": "3.7.0"
  }
 },
 "nbformat": 4,
 "nbformat_minor": 2
}
